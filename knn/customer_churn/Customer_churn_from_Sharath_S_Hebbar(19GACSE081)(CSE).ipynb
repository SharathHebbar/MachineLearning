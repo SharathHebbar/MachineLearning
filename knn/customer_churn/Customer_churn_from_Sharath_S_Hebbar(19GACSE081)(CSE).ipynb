{
 "cells": [
  {
   "cell_type": "markdown",
   "metadata": {},
   "source": [
    "# Sharath S Hebbar\n",
    "## 19GACSE081\n",
    "## Computer Science and Engineering"
   ]
  },
  {
   "cell_type": "code",
   "execution_count": 16,
   "metadata": {},
   "outputs": [
    {
     "name": "stdout",
     "output_type": "stream",
     "text": [
      "   RowNumber  CustomerId   Surname  CreditScore Geography  Gender  Age  \\\n",
      "0          1    15634602  Hargrave          619    France  Female   42   \n",
      "1          2    15647311      Hill          608     Spain  Female   41   \n",
      "2          3    15619304      Onio          502    France  Female   42   \n",
      "3          4    15701354      Boni          699    France  Female   39   \n",
      "4          5    15737888  Mitchell          850     Spain  Female   43   \n",
      "\n",
      "   Tenure    Balance  NumOfProducts  HasCrCard  IsActiveMember  \\\n",
      "0       2       0.00              1          1               1   \n",
      "1       1   83807.86              1          0               1   \n",
      "2       8  159660.80              3          1               0   \n",
      "3       1       0.00              2          0               0   \n",
      "4       2  125510.82              1          1               1   \n",
      "\n",
      "   EstimatedSalary  Exited  \n",
      "0        101348.88       1  \n",
      "1        112542.58       0  \n",
      "2        113931.57       1  \n",
      "3         93826.63       0  \n",
      "4         79084.10       0  \n",
      "\n",
      "Accuracy:  0.761\n"
     ]
    }
   ],
   "source": [
    "import sklearn\n",
    "from sklearn.utils import shuffle\n",
    "from sklearn.neighbors import KNeighborsClassifier\n",
    "import pandas as pd\n",
    "import numpy as np\n",
    "from sklearn import linear_model, preprocessing\n",
    "\n",
    "\n",
    "\n",
    "data = pd.read_csv(\"E:/sharathhebbar/works/UVCE_Mini_Project/Bank_Customer_Churn_dataset.csv\")\n",
    "print(data.head())\n",
    "\n",
    "le = preprocessing.LabelEncoder()\n",
    "CustomerId = le.fit_transform(list(data[\"CustomerId\"]))\n",
    "Surname = le.fit_transform(list(data[\"Surname\"]))\n",
    "CreditScore = le.fit_transform(list(data[\"CreditScore\"]))\n",
    "Gender = le.fit_transform(list(data[\"Gender\"]))\n",
    "Tenure = le.fit_transform(list(data[\"Tenure\"]))\n",
    "IsActiveMember = le.fit_transform(list(data[\"IsActiveMember\"]))\n",
    "Exited = le.fit_transform(list(data[\"Exited\"]))\n",
    "\n",
    "predict = \"Exited\"  \n",
    "\n",
    "X = list(zip(CustomerId,Surname,CreditScore,Gender,Tenure,IsActiveMember))\n",
    "y = list(Exited)\n",
    "x_train, x_test, y_train, y_test = sklearn.model_selection.train_test_split(X, y, test_size = 0.1)\n",
    "knn = KNeighborsClassifier()\n",
    "knn.fit(x_train, y_train)    \n",
    "acc = knn.score(x_test, y_test)\n",
    "\n",
    "print(\"\\nAccuracy: \",acc)\n",
    "\n"
   ]
  },
  {
   "cell_type": "code",
   "execution_count": null,
   "metadata": {},
   "outputs": [],
   "source": []
  }
 ],
 "metadata": {
  "kernelspec": {
   "display_name": "Python 3",
   "language": "python",
   "name": "python3"
  },
  "language_info": {
   "codemirror_mode": {
    "name": "ipython",
    "version": 3
   },
   "file_extension": ".py",
   "mimetype": "text/x-python",
   "name": "python",
   "nbconvert_exporter": "python",
   "pygments_lexer": "ipython3",
   "version": "3.7.6"
  }
 },
 "nbformat": 4,
 "nbformat_minor": 4
}
